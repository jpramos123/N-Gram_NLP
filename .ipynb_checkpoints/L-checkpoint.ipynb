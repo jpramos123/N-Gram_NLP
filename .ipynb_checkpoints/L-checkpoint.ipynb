{
 "cells": [
  {
   "cell_type": "code",
   "execution_count": 69,
   "metadata": {},
   "outputs": [],
   "source": [
    "import re\n",
    "import string \n",
    "import nltk \n",
    "from nltk.corpus import stopwords\n",
    "from collections import defaultdict\n",
    "from os import walk\n",
    "import math\n",
    "from matplotlib import pyplot as plt\n",
    "import numpy as np"
   ]
  },
  {
   "cell_type": "code",
   "execution_count": 18,
   "metadata": {},
   "outputs": [
    {
     "name": "stderr",
     "output_type": "stream",
     "text": [
      "[nltk_data] Downloading package punkt to /Users/jramos/nltk_data...\n",
      "[nltk_data]   Package punkt is already up-to-date!\n",
      "[nltk_data] Downloading package stopwords to\n",
      "[nltk_data]     /Users/jramos/nltk_data...\n",
      "[nltk_data]   Package stopwords is already up-to-date!\n"
     ]
    }
   ],
   "source": [
    "nltk.download('punkt')\n",
    "nltk.download('stopwords')\n",
    "ptbr_stopwords = stopwords.words('portuguese')"
   ]
  },
  {
   "cell_type": "code",
   "execution_count": 19,
   "metadata": {},
   "outputs": [],
   "source": [
    "def to_lower(text):\n",
    "    return \" \".join([w.lower() for w in text.split()])"
   ]
  },
  {
   "cell_type": "code",
   "execution_count": 20,
   "metadata": {},
   "outputs": [],
   "source": [
    "def remove_punctuation(text):\n",
    "    clean_txt = \"\".join([c for c in text if c not in string.punctuation+'º'])\n",
    "    return clean_txt"
   ]
  },
  {
   "cell_type": "code",
   "execution_count": 21,
   "metadata": {},
   "outputs": [],
   "source": [
    "def add_space(text):\n",
    "    return '<s> <s> ' + text + ' </s> </s>'"
   ]
  },
  {
   "cell_type": "code",
   "execution_count": 22,
   "metadata": {},
   "outputs": [],
   "source": [
    "def remove_stopwords(text):\n",
    "    phrase = \" \".join([w.lower() for w in text.split() if w not in ptbr_stopwords])\n",
    "    return phrase"
   ]
  },
  {
   "cell_type": "code",
   "execution_count": 23,
   "metadata": {},
   "outputs": [],
   "source": [
    "def preprocess(text):\n",
    "    text = re.sub('\\n\\n', '\\n', text)\n",
    "    text = re.findall('(?<=<TEXT>)[\\s\\S]*?(?=<\\/TEXT>)', text)\n",
    "    treated_corpus = [[] for i in range(len(text))]\n",
    "    for i in range(len(text)):\n",
    "        text_bl = re.findall('(?<=\\\\n)[\\s\\S]*?(?=\\\\n)', text[i])\n",
    "        for j in range(len(text_bl)):\n",
    "            text_bl[j] = re.sub('(^[\\s])|([\\s]$)','',text_bl[j])\n",
    "            text_point = re.findall('[^\\.]+', text_bl[j])\n",
    "            for k in range(len(text_point)):\n",
    "                text_comma = re.findall('[^\\;]+', text_point[k])\n",
    "                for l in range(len(text_comma)):\n",
    "                    text_comma[l] = re.sub('([\\d+])','',text_comma[l])\n",
    "                    text_comma[l] = re.sub('(^[\\s])|([\\s]$)','',text_comma[l])\n",
    "                    text_comma[l] = to_lower(text_comma[l])\n",
    "                    text_comma[l] = remove_stopwords(text_comma[l])\n",
    "                    text_comma[l] = remove_punctuation(text_comma[l])\n",
    "                    text_comma[l] = add_space(text_comma[l])\n",
    "                    treated_corpus[i].append(text_comma[l])\n",
    "    \n",
    "    return treated_corpus"
   ]
  },
  {
   "cell_type": "code",
   "execution_count": 24,
   "metadata": {},
   "outputs": [],
   "source": [
    "def make_three_gram(text, three_gram):\n",
    "\n",
    "    words = text.split()\n",
    "    for i in range(len(words) - 2):\n",
    "        if (words[i], words[i+1]) in three_gram.keys():\n",
    "            if words[i + 2] in three_gram[(words[i], words[i+1])].keys():\n",
    "                three_gram[(words[i], words[i+1])][words[i + 2]] += 1\n",
    "            else:\n",
    "                three_gram[(words[i], words[i+1])][words[i + 2]] = 1\n",
    "        else:\n",
    "            three_gram[(words[i], words[i+1])] = {words[i + 2] : 1}\n",
    "    \n",
    "    return three_gram"
   ]
  },
  {
   "cell_type": "code",
   "execution_count": 25,
   "metadata": {},
   "outputs": [],
   "source": [
    "def make_bi_gram(text, bi_gram):\n",
    "    \n",
    "    words = text.split()\n",
    "    for i in range(len(words) - 2):\n",
    "        if (words[i+1]) in bi_gram.keys():\n",
    "            if words[i + 2] in bi_gram[(words[i+1])].keys():\n",
    "                bi_gram[(words[i+1])][words[i + 2]] += 1\n",
    "            else:\n",
    "                bi_gram[(words[i+1])][words[i + 2]] = 1\n",
    "        else:\n",
    "            bi_gram[(words[i+1])] = {words[i + 2] : 1}\n",
    "    \n",
    "    return bi_gram"
   ]
  },
  {
   "cell_type": "code",
   "execution_count": 26,
   "metadata": {},
   "outputs": [],
   "source": [
    "def make_uni_gram(text, uni_gram):\n",
    "\n",
    "    words = text.split()\n",
    "    for i in range(len(words) - 2):\n",
    "        if words[i+2] in uni_gram.keys():\n",
    "            uni_gram[words[i + 2]] += 1\n",
    "        else:\n",
    "            uni_gram[words[i + 2]] = 1\n",
    "    \n",
    "    return uni_gram"
   ]
  },
  {
   "cell_type": "code",
   "execution_count": 54,
   "metadata": {},
   "outputs": [],
   "source": [
    "def probability(w3, sentence, three_gram, bi_gram, uni_gram):\n",
    "    w1, w2 = sentence\n",
    "    \n",
    "    #print(\"W1: \", w1)\n",
    "    #print(\"W2: \", w2)\n",
    "    #print(\"W3: \", w3)\n",
    "    \n",
    "    try: \n",
    "        three_gram_prob = three_gram[(w1,w2)][w3] / bi_gram[w1][w2]\n",
    "        bi_gram_prob = bi_gram[(w1)][w2] / uni_gram[w2]\n",
    "        uni_gram_prob = uni_gram[w3] / len(uni_gram)\n",
    "        final_prob = 0.8 * three_gram_prob * 0.15 * bi_gram_prob * 0.05 * uni_gram_prob\n",
    "        return final_prob\n",
    "    except KeyError:\n",
    "        return 0"
   ]
  },
  {
   "cell_type": "code",
   "execution_count": 29,
   "metadata": {},
   "outputs": [],
   "source": [
    "def makeGrams(corpus):\n",
    "\n",
    "    \n",
    "    three_gram = defaultdict()\n",
    "    bi_gram = defaultdict()\n",
    "    uni_gram = defaultdict()\n",
    "        \n",
    "    for txt in corpus:\n",
    "        for p in txt:\n",
    "            make_three_gram(p, three_gram)\n",
    "\n",
    "    for txt in corpus:\n",
    "        for p in txt:\n",
    "            bi_gram = make_bi_gram(p, bi_gram)\n",
    "\n",
    "\n",
    "    for txt in corpus:\n",
    "        for p in txt:\n",
    "            uni_gram = make_uni_gram(p, uni_gram)\n",
    "            \n",
    "    return uni_gram, bi_gram, three_gram"
   ]
  },
  {
   "cell_type": "code",
   "execution_count": 106,
   "metadata": {},
   "outputs": [],
   "source": [
    "def makeCorpus(folder_name, n_data=None):\n",
    "    files_arr = []\n",
    "    for _, _, files in walk('./{}/'.format(folder_name)):\n",
    "        files_arr.extend(files)\n",
    "        break\n",
    "    \n",
    "    corpus = []\n",
    "    for file_name in files_arr[:n_data]:\n",
    "        f = open('{}/{}'.format(folder_name,file_name), encoding='latin-1', mode='r')\n",
    "        text = f.read()\n",
    "        corpus = corpus + preprocess(text)\n",
    "        \n",
    "    return corpus"
   ]
  },
  {
   "cell_type": "code",
   "execution_count": 31,
   "metadata": {},
   "outputs": [],
   "source": [
    "def makeGramMask(sentence, n_gram_lvl=0):\n",
    "    return makeGrams([[sentence]])[n_gram_lvl]"
   ]
  },
  {
   "cell_type": "code",
   "execution_count": 110,
   "metadata": {},
   "outputs": [],
   "source": [
    "train_corpus = makeCorpus('folha95', 100)\n",
    "test_corpus = makeCorpus('folha94', 100)"
   ]
  },
  {
   "cell_type": "code",
   "execution_count": 112,
   "metadata": {},
   "outputs": [],
   "source": [
    "train_uni_gram, train_bi_gram, train_three_gram = makeGrams(train_corpus)"
   ]
  },
  {
   "cell_type": "code",
   "execution_count": 113,
   "metadata": {},
   "outputs": [],
   "source": [
    "test_uni_gram,test_bi_gram, test_three_gram = makeGrams(test_corpus)"
   ]
  },
  {
   "cell_type": "code",
   "execution_count": 114,
   "metadata": {},
   "outputs": [],
   "source": [
    "perp_arr = {}\n",
    "for text_tag in test_corpus:\n",
    "    for sentence in text_tag:\n",
    "        sentence_gram = makeGramMask(sentence, 2)\n",
    "        #print(sentence)\n",
    "        #print(sentence_gram)\n",
    "        prob_sum = 0\n",
    "        for word_tuple in sentence_gram.keys():\n",
    "            for word in sentence_gram[word_tuple].keys():\n",
    "                p = probability(word, word_tuple, train_three_gram, train_bi_gram, train_uni_gram)\n",
    "                if p != 0:    \n",
    "                    prob_sum = prob_sum + math.log(p)\n",
    "        perp_arr[sentence] = math.exp(prob_sum)**(-1/float(len(sentence.split())))"
   ]
  },
  {
   "cell_type": "code",
   "execution_count": 115,
   "metadata": {},
   "outputs": [
    {
     "data": {
      "text/plain": [
       "269240"
      ]
     },
     "execution_count": 115,
     "metadata": {},
     "output_type": "execute_result"
    }
   ],
   "source": [
    "len(perp_arr.keys())"
   ]
  },
  {
   "cell_type": "markdown",
   "metadata": {},
   "source": [
    "## Perplexidade Pura"
   ]
  },
  {
   "cell_type": "markdown",
   "metadata": {},
   "source": [
    "### Análise\n",
    "Abaixo está o grafico da perplexidade pura. É possivel identificar que existem perplexidades extreamente altas em comparação com o resto da distribuição.\n",
    "\n",
    "O que parece influenciar esse pico na perplexidade é aparição de nomes nas sentenças."
   ]
  },
  {
   "cell_type": "code",
   "execution_count": 129,
   "metadata": {},
   "outputs": [
    {
     "data": {
      "text/plain": [
       "[<matplotlib.lines.Line2D at 0x1ba0f1950>]"
      ]
     },
     "execution_count": 129,
     "metadata": {},
     "output_type": "execute_result"
    },
    {
     "data": {
      "image/png": "[encoded data removed]",
      "text/plain": [
       "<Figure size 1152x576 with 1 Axes>"
      ]
     },
     "metadata": {
      "needs_background": "light"
     },
     "output_type": "display_data"
    }
   ],
   "source": [
    "plt.figure(figsize=(16,8))\n",
    "plt.xlabel('Sentences')\n",
    "plt.ylabel('Perplexity')\n",
    "plt.plot([i for i in range(len(perp_arr.keys()))], [perp_arr[k] for k in perp_arr.keys()])"
   ]
  },
  {
   "cell_type": "code",
   "execution_count": 144,
   "metadata": {},
   "outputs": [],
   "source": [
    "ar = []\n",
    "for k in perp_arr.keys():\n",
    "    if perp_arr[k] > 500000:\n",
    "        ar.append(k)"
   ]
  }
 ],
 "metadata": {
  "kernelspec": {
   "display_name": "Python 3",
   "language": "python",
   "name": "python3"
  },
  "language_info": {
   "codemirror_mode": {
    "name": "ipython",
    "version": 3
   },
   "file_extension": ".py",
   "mimetype": "text/x-python",
   "name": "python",
   "nbconvert_exporter": "python",
   "pygments_lexer": "ipython3",
   "version": "3.7.7"
  }
 },
 "nbformat": 4,
 "nbformat_minor": 4
}
